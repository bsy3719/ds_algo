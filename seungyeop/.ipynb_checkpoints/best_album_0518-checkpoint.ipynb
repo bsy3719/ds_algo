{
 "cells": [
  {
   "cell_type": "markdown",
   "metadata": {},
   "source": [
    "# 해시_베스트엘범\n",
    "https://programmers.co.kr/learn/courses/30/lessons/42579"
   ]
  },
  {
   "cell_type": "code",
   "execution_count": 91,
   "metadata": {},
   "outputs": [],
   "source": [
    "genres = [\"classic\", \"pop\", \"classic\", \"classic\"]\n",
    "plays = [500, 600, 150, 800, 2500]"
   ]
  },
  {
   "cell_type": "code",
   "execution_count": 92,
   "metadata": {},
   "outputs": [],
   "source": [
    "def solution(genres, plays):\n",
    "    answer = []\n",
    "    \n",
    "    album = {}\n",
    "    cnt = {}\n",
    "    \n",
    "    for i in range(len(genres)):\n",
    "        if genres[i] not in album.keys():\n",
    "            album[genres[i]] = {i:plays[i]}\n",
    "            cnt[genres[i]] = plays[i]\n",
    "        else:\n",
    "            album[genres[i]][i] = plays[i]\n",
    "            cnt[genres[i]] = cnt[genres[i]] + plays[i]\n",
    "\n",
    "    \n",
    "    sorted_album = {}\n",
    "    \n",
    "    print(album)\n",
    "   \n",
    "    sorted_cnt =  sorted(cnt.items(), key=lambda x: x[1], reverse=True)\n",
    "    \n",
    "    for key in album.keys():\n",
    "        sorted_album[key] = sorted(album[key].items(), key=lambda x: x[1], reverse=True)\n",
    "    \n",
    "    print(sorted_album)\n",
    "    print(sorted_cnt)\n",
    "    \n",
    "    for cnt in sorted_cnt:\n",
    "        #print(len(sorted_album[cnt[0]]))\n",
    "        if len(sorted_album[cnt[0]]) == 1:\n",
    "            answer.append(sorted_album[cnt[0]][0][0])\n",
    "        else:\n",
    "            answer.append(sorted_album[cnt[0]][0][0])\n",
    "            answer.append(sorted_album[cnt[0]][1][0])\n",
    "\n",
    "    return answer"
   ]
  },
  {
   "cell_type": "code",
   "execution_count": 93,
   "metadata": {},
   "outputs": [
    {
     "name": "stdout",
     "output_type": "stream",
     "text": [
      "{'classic': {0: 500, 2: 150, 3: 800}, 'pop': {1: 600}}\n",
      "{'classic': [(3, 800), (0, 500), (2, 150)], 'pop': [(1, 600)]}\n",
      "[('classic', 1450), ('pop', 600)]\n"
     ]
    },
    {
     "data": {
      "text/plain": [
       "[3, 0, 1]"
      ]
     },
     "execution_count": 93,
     "metadata": {},
     "output_type": "execute_result"
    }
   ],
   "source": [
    "solution(genres, plays)"
   ]
  },
  {
   "cell_type": "code",
   "execution_count": null,
   "metadata": {},
   "outputs": [],
   "source": []
  }
 ],
 "metadata": {
  "kernelspec": {
   "display_name": "Python 3",
   "language": "python",
   "name": "python3"
  },
  "language_info": {
   "codemirror_mode": {
    "name": "ipython",
    "version": 3
   },
   "file_extension": ".py",
   "mimetype": "text/x-python",
   "name": "python",
   "nbconvert_exporter": "python",
   "pygments_lexer": "ipython3",
   "version": "3.7.3"
  }
 },
 "nbformat": 4,
 "nbformat_minor": 4
}
