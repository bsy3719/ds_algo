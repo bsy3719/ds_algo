{
 "cells": [
  {
   "cell_type": "markdown",
   "metadata": {},
   "source": [
    "# 깊이/너비 우선 탐색_네트워크\n",
    "https://programmers.co.kr/learn/courses/30/lessons/43162"
   ]
  },
  {
   "cell_type": "code",
   "execution_count": 69,
   "metadata": {},
   "outputs": [],
   "source": [
    "n = 3\n",
    "computers = [[1, 1, 0], [1, 1, 0], [0, 0, 1]]"
   ]
  },
  {
   "cell_type": "code",
   "execution_count": 120,
   "metadata": {},
   "outputs": [
    {
     "data": {
      "text/plain": [
       "2"
      ]
     },
     "execution_count": 120,
     "metadata": {},
     "output_type": "execute_result"
    }
   ],
   "source": [
    "from collections import deque\n",
    "\n",
    "def bfs(computers, visited, i, n):\n",
    "    dq = deque()\n",
    "    dq.append(i)\n",
    "    \n",
    "    while dq:\n",
    "        curr = dq.pop()\n",
    "        visited[curr] = 1\n",
    "        for j in range(n):\n",
    "            if not visited[j] and computers[curr][j] == 1:\n",
    "                dq.append(j)\n",
    "\n",
    "def solution(n, computers):\n",
    "    answer = 0\n",
    "    visited = [0 for _ in range(n)]\n",
    "    \n",
    "    for i in range(n):\n",
    "        #print(visited)\n",
    "        if not visited[i]:\n",
    "            bfs(computers, visited, i, n)\n",
    "            answer = answer + 1\n",
    "            \n",
    "    return answer\n",
    "\n",
    "solution(n, computers)"
   ]
  },
  {
   "cell_type": "code",
   "execution_count": null,
   "metadata": {},
   "outputs": [],
   "source": []
  }
 ],
 "metadata": {
  "kernelspec": {
   "display_name": "Python 3",
   "language": "python",
   "name": "python3"
  },
  "language_info": {
   "codemirror_mode": {
    "name": "ipython",
    "version": 3
   },
   "file_extension": ".py",
   "mimetype": "text/x-python",
   "name": "python",
   "nbconvert_exporter": "python",
   "pygments_lexer": "ipython3",
   "version": "3.7.3"
  }
 },
 "nbformat": 4,
 "nbformat_minor": 4
}
