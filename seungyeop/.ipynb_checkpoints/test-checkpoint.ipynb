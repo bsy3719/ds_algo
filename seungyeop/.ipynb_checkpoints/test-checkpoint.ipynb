{
 "cells": [
  {
   "cell_type": "markdown",
   "metadata": {},
   "source": [
    "# 해시_위장\n",
    "https://programmers.co.kr/learn/courses/30/lessons/42578"
   ]
  },
  {
   "cell_type": "code",
   "execution_count": 1,
   "metadata": {},
   "outputs": [],
   "source": [
    "clothes = [[\"yellow_hat\", \"headgear\"], [\"blue_sunglasses\", \"eyewear\"], [\"green_turban\", \"headgear\"]]"
   ]
  },
  {
   "cell_type": "code",
   "execution_count": 2,
   "metadata": {},
   "outputs": [],
   "source": [
    "def solution(clothes):\n",
    "    answer = 1\n",
    "    \n",
    "    dict_clothes = {}\n",
    "    \n",
    "    for clothe in clothes:\n",
    "        if clothe[1] not in dict_clothes.keys():\n",
    "            dict_clothes[clothe[1]] = 1\n",
    "        else:\n",
    "            dict_clothes[clothe[1]]+=1\n",
    "    \n",
    "    num_clothes = list(map(lambda i: i+1, dict_clothes.values()))\n",
    "    \n",
    "    for num in num_clothes:\n",
    "        answer = answer * num\n",
    "    \n",
    "    return answer - 1"
   ]
  },
  {
   "cell_type": "code",
   "execution_count": 3,
   "metadata": {},
   "outputs": [
    {
     "data": {
      "text/plain": [
       "5"
      ]
     },
     "execution_count": 3,
     "metadata": {},
     "output_type": "execute_result"
    }
   ],
   "source": [
    "solution(clothes)"
   ]
  }
 ],
 "metadata": {
  "kernelspec": {
   "display_name": "Python 3",
   "language": "python",
   "name": "python3"
  },
  "language_info": {
   "codemirror_mode": {
    "name": "ipython",
    "version": 3
   },
   "file_extension": ".py",
   "mimetype": "text/x-python",
   "name": "python",
   "nbconvert_exporter": "python",
   "pygments_lexer": "ipython3",
   "version": "3.7.3"
  }
 },
 "nbformat": 4,
 "nbformat_minor": 4
}
