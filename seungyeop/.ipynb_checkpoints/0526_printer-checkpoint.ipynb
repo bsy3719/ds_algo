{
 "cells": [
  {
   "cell_type": "markdown",
   "metadata": {},
   "source": [
    "# 스택/큐_프린터\n",
    "https://programmers.co.kr/learn/courses/30/lessons/42587"
   ]
  },
  {
   "cell_type": "code",
   "execution_count": 1,
   "metadata": {},
   "outputs": [],
   "source": [
    "def solution(priorities, location):\n",
    "    answer = 0\n",
    "    order = [i for i in range(len(priorities))]\n",
    "    queue = []\n",
    "    \n",
    "    max_num = -1\n",
    "    \n",
    "    while priorities:\n",
    "        max_num = max(priorities)\n",
    "        \n",
    "        if priorities[0] == max_num:\n",
    "            priorities.pop(0)\n",
    "            queue.append(order.pop(0))\n",
    "        else:\n",
    "            first_num = priorities.pop(0)\n",
    "            priorities.append(first_num)\n",
    "            order_num = order.pop(0)\n",
    "            order.append(order_num)\n",
    "\n",
    "    print(queue)\n",
    "    \n",
    "    answer = queue.index(location) + 1\n",
    "    \n",
    "    return answer"
   ]
  },
  {
   "cell_type": "code",
   "execution_count": null,
   "metadata": {},
   "outputs": [],
   "source": []
  }
 ],
 "metadata": {
  "kernelspec": {
   "display_name": "Python 3",
   "language": "python",
   "name": "python3"
  },
  "language_info": {
   "codemirror_mode": {
    "name": "ipython",
    "version": 3
   },
   "file_extension": ".py",
   "mimetype": "text/x-python",
   "name": "python",
   "nbconvert_exporter": "python",
   "pygments_lexer": "ipython3",
   "version": "3.7.3"
  }
 },
 "nbformat": 4,
 "nbformat_minor": 4
}
