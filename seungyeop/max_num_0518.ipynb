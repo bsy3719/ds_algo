{
 "cells": [
  {
   "cell_type": "code",
   "execution_count": 43,
   "metadata": {},
   "outputs": [],
   "source": [
    "numbers = [3, 30, 34, 5, 9]"
   ]
  },
  {
   "cell_type": "code",
   "execution_count": 48,
   "metadata": {},
   "outputs": [],
   "source": [
    "def solution(numbers):\n",
    "    answer = 0\n",
    "    str_numbers = list(map(str, numbers))\n",
    "    ex_numbers = sorted(str_numbers, key=lambda x: int(x[0]), reverse=True)\n",
    "    \n",
    "    print(ex_numbers)\n",
    "    answer = \"\".join(ex_numbers)\n",
    "    return answer"
   ]
  },
  {
   "cell_type": "code",
   "execution_count": null,
   "metadata": {},
   "outputs": [],
   "source": [
    "def solution(numbers):\n",
    "    answer = 0\n",
    "    str_numbers = list(map(str, numbers))\n",
    "    temp = []\n",
    "    \n",
    "    for \n",
    "    \n",
    "    print(ex_numbers)\n",
    "    answer = \"\".join(ex_numbers)\n",
    "    return answer"
   ]
  },
  {
   "cell_type": "code",
   "execution_count": 54,
   "metadata": {},
   "outputs": [],
   "source": [
    "def solution(numbers):\n",
    "    answer=\"\"\n",
    "    numberStr=[]\n",
    "    for i,value in enumerate(numbers):\n",
    "        st = str(value)\n",
    "        stri = st*3\n",
    "        numberStr.append([stri,i])\n",
    "    print(numberStr)\n",
    "\n",
    "    numberStr.sort(reverse=True)\n",
    "    \n",
    "    print(numberStr)\n",
    "    for i,value in enumerate(numberStr):\n",
    "        index = value[1]\n",
    "        answer += str(numbers[index])\n",
    "\n",
    "\n",
    "    for value in answer:\n",
    "        if value!='0':\n",
    "            return answer\n",
    "\n",
    "    return \"0\""
   ]
  },
  {
   "cell_type": "code",
   "execution_count": 55,
   "metadata": {},
   "outputs": [
    {
     "name": "stdout",
     "output_type": "stream",
     "text": [
      "[['333', 0], ['303030', 1], ['343434', 2], ['555', 3], ['999', 4]]\n",
      "[['999', 4], ['555', 3], ['343434', 2], ['333', 0], ['303030', 1]]\n"
     ]
    },
    {
     "data": {
      "text/plain": [
       "'9534330'"
      ]
     },
     "execution_count": 55,
     "metadata": {},
     "output_type": "execute_result"
    }
   ],
   "source": [
    "solution(numbers)"
   ]
  },
  {
   "cell_type": "code",
   "execution_count": null,
   "metadata": {},
   "outputs": [],
   "source": [
    "9534330"
   ]
  }
 ],
 "metadata": {
  "kernelspec": {
   "display_name": "Python 3",
   "language": "python",
   "name": "python3"
  },
  "language_info": {
   "codemirror_mode": {
    "name": "ipython",
    "version": 3
   },
   "file_extension": ".py",
   "mimetype": "text/x-python",
   "name": "python",
   "nbconvert_exporter": "python",
   "pygments_lexer": "ipython3",
   "version": "3.7.3"
  }
 },
 "nbformat": 4,
 "nbformat_minor": 4
}
