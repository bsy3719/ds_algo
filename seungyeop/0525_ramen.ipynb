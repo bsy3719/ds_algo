{
 "cells": [
  {
   "cell_type": "markdown",
   "metadata": {},
   "source": [
    "# 힙_라면공장\n",
    "https://programmers.co.kr/learn/courses/30/lessons/42629"
   ]
  },
  {
   "cell_type": "code",
   "execution_count": 34,
   "metadata": {},
   "outputs": [],
   "source": [
    "stock = 4\n",
    "dates = [4,10,15]\n",
    "supplies = [20,5,10]\n",
    "k = 30"
   ]
  },
  {
   "cell_type": "code",
   "execution_count": 37,
   "metadata": {},
   "outputs": [],
   "source": [
    "import heapq\n",
    "\n",
    "def solution(stock, dates, supplies, k):\n",
    "    answer = 0\n",
    "    i = 0\n",
    "    heap = []\n",
    "    \n",
    "    while stock < k:\n",
    "        for j in range(i, len(dates)):\n",
    "            if dates[i] <= stock:\n",
    "                heapq.heappush(heap, -supplies[j])\n",
    "                i = i + 1\n",
    "            else:\n",
    "                break\n",
    "        \n",
    "        stock = stock - heapq.heappop(heap)\n",
    "        answer = answer + 1\n",
    "    return answer\n",
    "    "
   ]
  },
  {
   "cell_type": "code",
   "execution_count": 38,
   "metadata": {},
   "outputs": [
    {
     "data": {
      "text/plain": [
       "2"
      ]
     },
     "execution_count": 38,
     "metadata": {},
     "output_type": "execute_result"
    }
   ],
   "source": [
    "solution(stock, dates, supplies, k)"
   ]
  }
 ],
 "metadata": {
  "kernelspec": {
   "display_name": "Python 3",
   "language": "python",
   "name": "python3"
  },
  "language_info": {
   "codemirror_mode": {
    "name": "ipython",
    "version": 3
   },
   "file_extension": ".py",
   "mimetype": "text/x-python",
   "name": "python",
   "nbconvert_exporter": "python",
   "pygments_lexer": "ipython3",
   "version": "3.7.3"
  }
 },
 "nbformat": 4,
 "nbformat_minor": 4
}
