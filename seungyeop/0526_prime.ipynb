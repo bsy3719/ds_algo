{
 "cells": [
  {
   "cell_type": "markdown",
   "metadata": {},
   "source": [
    "# 완전탐색_소수 찾기\n",
    "https://programmers.co.kr/learn/courses/30/lessons/42839"
   ]
  },
  {
   "cell_type": "code",
   "execution_count": 1,
   "metadata": {},
   "outputs": [],
   "source": [
    "import itertools\n",
    "\n",
    "def prime(num):\n",
    "    if num > 1:\n",
    "        for i in range(2, num):\n",
    "            if num%i == 0:\n",
    "                return False\n",
    "    else:\n",
    "        return False\n",
    "    \n",
    "    return True\n",
    "\n",
    "def solution(numbers):\n",
    "    answer = 0\n",
    "    \n",
    "    permutation = []\n",
    "    \n",
    "    for i in range(len(numbers)):\n",
    "        permutation = permutation + list(map(''.join, itertools.permutations(numbers, i+1)))\n",
    "        \n",
    "    permutation = set(map(int, permutation))\n",
    "    \n",
    "    for num in permutation:\n",
    "        if prime(num):\n",
    "            answer = answer + 1\n",
    "    \n",
    "    return answer"
   ]
  },
  {
   "cell_type": "code",
   "execution_count": null,
   "metadata": {},
   "outputs": [],
   "source": []
  }
 ],
 "metadata": {
  "kernelspec": {
   "display_name": "Python 3",
   "language": "python",
   "name": "python3"
  },
  "language_info": {
   "codemirror_mode": {
    "name": "ipython",
    "version": 3
   },
   "file_extension": ".py",
   "mimetype": "text/x-python",
   "name": "python",
   "nbconvert_exporter": "python",
   "pygments_lexer": "ipython3",
   "version": "3.7.3"
  }
 },
 "nbformat": 4,
 "nbformat_minor": 4
}
