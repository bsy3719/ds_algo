{
 "cells": [
  {
   "cell_type": "markdown",
   "metadata": {},
   "source": [
    "# 완전탐색_카펫\n",
    "https://programmers.co.kr/learn/courses/30/lessons/42842"
   ]
  },
  {
   "cell_type": "code",
   "execution_count": 1,
   "metadata": {},
   "outputs": [],
   "source": [
    "import math\n",
    "\n",
    "def solution(brown, yellow):\n",
    "    answer = []\n",
    "    \n",
    "    total = brown + yellow\n",
    "    \n",
    "    for height in range(3, math.ceil(math.sqrt(total))+1):\n",
    "        if total%height ==0:\n",
    "            width = total//height\n",
    "            \n",
    "            if ((width - 2) * (height - 2) == yellow):\n",
    "                answer.append(width)\n",
    "                answer.append(height)\n",
    "                break\n",
    "        \n",
    "    return answer"
   ]
  },
  {
   "cell_type": "code",
   "execution_count": null,
   "metadata": {},
   "outputs": [],
   "source": []
  }
 ],
 "metadata": {
  "kernelspec": {
   "display_name": "Python 3",
   "language": "python",
   "name": "python3"
  },
  "language_info": {
   "codemirror_mode": {
    "name": "ipython",
    "version": 3
   },
   "file_extension": ".py",
   "mimetype": "text/x-python",
   "name": "python",
   "nbconvert_exporter": "python",
   "pygments_lexer": "ipython3",
   "version": "3.7.3"
  }
 },
 "nbformat": 4,
 "nbformat_minor": 4
}
