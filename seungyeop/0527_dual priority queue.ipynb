{
 "cells": [
  {
   "cell_type": "markdown",
   "metadata": {},
   "source": [
    "# 힙_이중 우선순위 큐\n",
    "https://programmers.co.kr/learn/courses/30/lessons/42628"
   ]
  },
  {
   "cell_type": "code",
   "execution_count": 1,
   "metadata": {},
   "outputs": [],
   "source": [
    "import heapq\n",
    "\n",
    "def solution(operations):\n",
    "    answer = []\n",
    "    heap = []\n",
    "    \n",
    "    for operation in operations:\n",
    "        oper, num = operation.split()\n",
    "        num = int(num)\n",
    "        \n",
    "        \n",
    "        if oper == \"I\":\n",
    "            heapq.heappush(heap, num)\n",
    "        else:\n",
    "            if heap:\n",
    "                if num == -1:\n",
    "                    heapq.heappop(heap)\n",
    "                else:\n",
    "                    heap.remove(max(heap))\n",
    "                \n",
    "        print(operation, heap)\n",
    "        \n",
    "    if heap:\n",
    "        answer.append(max(heap))\n",
    "        answer.append(heap[0])\n",
    "    else:\n",
    "        answer.append(0)\n",
    "        answer.append(0)\n",
    "                \n",
    "    return answer"
   ]
  },
  {
   "cell_type": "code",
   "execution_count": null,
   "metadata": {},
   "outputs": [],
   "source": []
  }
 ],
 "metadata": {
  "kernelspec": {
   "display_name": "Python 3",
   "language": "python",
   "name": "python3"
  },
  "language_info": {
   "codemirror_mode": {
    "name": "ipython",
    "version": 3
   },
   "file_extension": ".py",
   "mimetype": "text/x-python",
   "name": "python",
   "nbconvert_exporter": "python",
   "pygments_lexer": "ipython3",
   "version": "3.7.3"
  }
 },
 "nbformat": 4,
 "nbformat_minor": 4
}
