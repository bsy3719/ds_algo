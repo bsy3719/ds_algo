{
 "cells": [
  {
   "cell_type": "markdown",
   "metadata": {},
   "source": [
    "# 깊이/너비 우선 탐색_네트워크\n",
    "https://programmers.co.kr/learn/courses/30/lessons/43164"
   ]
  },
  {
   "cell_type": "code",
   "execution_count": 44,
   "metadata": {},
   "outputs": [],
   "source": [
    "tickets = [[\"ICN\", \"COO\"], [\"ICN\", \"BOO\"], [\"COO\", \"ICN\"], [\"BOO\", \"DOO\"]]"
   ]
  },
  {
   "cell_type": "code",
   "execution_count": 55,
   "metadata": {},
   "outputs": [],
   "source": [
    "from collections import deque\n",
    "\n",
    "def solution(tickets):\n",
    "    answer = [\"ICN\"]\n",
    "    \n",
    "    paths = {}\n",
    "\n",
    "    tickets = sorted(tickets, key = lambda x : x[1])\n",
    "\n",
    "    for ticket in tickets:\n",
    "        if ticket[0] not in paths.keys():\n",
    "            paths[ticket[0]] = [ticket[1]]\n",
    "        else:\n",
    "            paths[ticket[0]].append(ticket[1])\n",
    "            \n",
    "    deq = deque()        \n",
    "    \n",
    "    deq.append(\"ICN\")\n",
    "    print(paths)\n",
    "    \n",
    "    while deq:\n",
    "        curr_path = deq.popleft()\n",
    "        \n",
    "        if curr_path in paths.keys() and paths[curr_path]:\n",
    "            for i in range(len(paths[curr_path])):\n",
    "                next_path = paths[curr_path][i]\n",
    "                \n",
    "                print(curr_path, next_path)\n",
    "                if next_path in paths.keys() and paths[next_path]:\n",
    "                    paths[curr_path].pop(i)\n",
    "                    deq.append(next_path)\n",
    "                    answer.append(next_path)\n",
    "                    break\n",
    "                \n",
    "#         if curr_path in paths.keys() and paths[curr_path]:\n",
    "#             #print(paths[curr_path])\n",
    "#             next_path = paths[curr_path].pop(0)\n",
    "#             deq.append(next_path)\n",
    "#             answer.append(next_path)\n",
    "            \n",
    "    #print(paths)\n",
    "            \n",
    "    return answer"
   ]
  },
  {
   "cell_type": "code",
   "execution_count": 57,
   "metadata": {},
   "outputs": [],
   "source": [
    "def dfs(start, tickets, result):\n",
    "    if len(tickets) == 0:\n",
    "        return result\n",
    "    for i,ticket in enumerate(tickets):\n",
    "        if start == ticket[0]:\n",
    "            end = ticket[1]\n",
    "            tickets.pop(i)\n",
    "            result.append(end)\n",
    "            temp = dfs(end,tickets, result)\n",
    "            if len(temp)!=0:\n",
    "                return temp\n",
    "            result.pop(len(result)-1)\n",
    "            tickets.insert(i,[start,end])\n",
    "\n",
    "    return []        \n",
    "\n",
    "def solution(tickets):\n",
    "    tickets.sort()\n",
    "    result = []\n",
    "    start = \"ICN\"\n",
    "    result.append(start)\n",
    "    answer = dfs(start, tickets, result)\n",
    "\n",
    "    return answer"
   ]
  },
  {
   "cell_type": "code",
   "execution_count": 58,
   "metadata": {},
   "outputs": [
    {
     "data": {
      "text/plain": [
       "['ICN', 'COO', 'ICN', 'BOO', 'DOO']"
      ]
     },
     "execution_count": 58,
     "metadata": {},
     "output_type": "execute_result"
    }
   ],
   "source": [
    "solution(tickets)"
   ]
  }
 ],
 "metadata": {
  "kernelspec": {
   "display_name": "Python 3",
   "language": "python",
   "name": "python3"
  },
  "language_info": {
   "codemirror_mode": {
    "name": "ipython",
    "version": 3
   },
   "file_extension": ".py",
   "mimetype": "text/x-python",
   "name": "python",
   "nbconvert_exporter": "python",
   "pygments_lexer": "ipython3",
   "version": "3.7.3"
  }
 },
 "nbformat": 4,
 "nbformat_minor": 4
}
