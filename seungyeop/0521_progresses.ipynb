{
 "cells": [
  {
   "cell_type": "markdown",
   "metadata": {},
   "source": [
    "# 스택/큐_기능개발\n",
    "https://programmers.co.kr/learn/courses/30/lessons/42586"
   ]
  },
  {
   "cell_type": "code",
   "execution_count": 1,
   "metadata": {},
   "outputs": [],
   "source": [
    "progresses = [93,30,55]\n",
    "speeds = [1,30,5]"
   ]
  },
  {
   "cell_type": "code",
   "execution_count": 47,
   "metadata": {},
   "outputs": [],
   "source": [
    "import math\n",
    "\n",
    "def solution(progresses, speeds):\n",
    "    answer = []\n",
    "    \n",
    "    progresses = list(map(lambda x,y: math.ceil((100-x)/y), progresses, speeds))\n",
    "    \n",
    "    print(progresses)\n",
    "    \n",
    "    queue = []\n",
    "    cnt = 1\n",
    "    curr = 0\n",
    "    \n",
    "    for i in range(1, len(progresses)):\n",
    "\n",
    "        if (progresses[curr] >= progresses[i]) and (i == len(progresses)-1):\n",
    "            cnt = cnt + 1\n",
    "            answer.append(cnt)\n",
    "        elif (progresses[curr] < progresses[i]) and (i == len(progresses)-1):\n",
    "            answer.append(cnt)\n",
    "            answer.append(1)\n",
    "        elif progresses[curr] >= progresses[i]:\n",
    "            cnt = cnt + 1\n",
    "        else:\n",
    "            curr = i\n",
    "            answer.append(cnt)\n",
    "            cnt = 1\n",
    "        \n",
    "        #print(i)\n",
    "        #print(curr)\n",
    "        #print(cnt)\n",
    "    \n",
    "    return answer"
   ]
  },
  {
   "cell_type": "code",
   "execution_count": 48,
   "metadata": {},
   "outputs": [
    {
     "name": "stdout",
     "output_type": "stream",
     "text": [
      "[7, 3, 9]\n"
     ]
    },
    {
     "data": {
      "text/plain": [
       "[2, 1]"
      ]
     },
     "execution_count": 48,
     "metadata": {},
     "output_type": "execute_result"
    }
   ],
   "source": [
    "solution(progresses, speeds)"
   ]
  },
  {
   "cell_type": "code",
   "execution_count": 3,
   "metadata": {},
   "outputs": [],
   "source": [
    "test = list(map(lambda x,y: (100-x)//y, [1,2,3], [1,2,3] ))"
   ]
  },
  {
   "cell_type": "code",
   "execution_count": 4,
   "metadata": {},
   "outputs": [
    {
     "data": {
      "text/plain": [
       "[99, 49, 32]"
      ]
     },
     "execution_count": 4,
     "metadata": {},
     "output_type": "execute_result"
    }
   ],
   "source": [
    "test"
   ]
  },
  {
   "cell_type": "code",
   "execution_count": null,
   "metadata": {},
   "outputs": [],
   "source": []
  }
 ],
 "metadata": {
  "kernelspec": {
   "display_name": "Python 3",
   "language": "python",
   "name": "python3"
  },
  "language_info": {
   "codemirror_mode": {
    "name": "ipython",
    "version": 3
   },
   "file_extension": ".py",
   "mimetype": "text/x-python",
   "name": "python",
   "nbconvert_exporter": "python",
   "pygments_lexer": "ipython3",
   "version": "3.7.3"
  }
 },
 "nbformat": 4,
 "nbformat_minor": 4
}
