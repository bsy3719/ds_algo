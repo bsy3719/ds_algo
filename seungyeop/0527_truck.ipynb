{
 "cells": [
  {
   "cell_type": "markdown",
   "metadata": {},
   "source": [
    "# 스택/큐_다리를 지나는 트럭\n",
    "https://programmers.co.kr/learn/courses/30/lessons/42583"
   ]
  },
  {
   "cell_type": "code",
   "execution_count": 1,
   "metadata": {},
   "outputs": [],
   "source": [
    "def solution(bridge_length, weight, truck_weights):\n",
    "    answer = 0\n",
    "    \n",
    "    length = len(truck_weights)\n",
    "    \n",
    "    before_truck = truck_weights.copy()\n",
    "    on_truck = []\n",
    "    after_truck = []\n",
    "    times = []\n",
    "    \n",
    "    #print(length)\n",
    "    \n",
    "    while len(after_truck) != length:\n",
    "        #print(\"while\")\n",
    "        \n",
    "        if before_truck:\n",
    "            bridge_weight = sum(on_truck) + before_truck[0]\n",
    "        \n",
    "            if bridge_weight <= weight:\n",
    "                on_truck.append(before_truck.pop(0))\n",
    "                times.append(0)\n",
    "            \n",
    "        times = list(map(lambda i: i+1, times))\n",
    "        \n",
    "        if times[0] == bridge_length:\n",
    "            after_truck.append(on_truck.pop(0))\n",
    "            times.pop(0)\n",
    "        \n",
    "        answer = answer + 1\n",
    "        \n",
    "    return answer + 1"
   ]
  },
  {
   "cell_type": "code",
   "execution_count": null,
   "metadata": {},
   "outputs": [],
   "source": []
  }
 ],
 "metadata": {
  "kernelspec": {
   "display_name": "Python 3",
   "language": "python",
   "name": "python3"
  },
  "language_info": {
   "codemirror_mode": {
    "name": "ipython",
    "version": 3
   },
   "file_extension": ".py",
   "mimetype": "text/x-python",
   "name": "python",
   "nbconvert_exporter": "python",
   "pygments_lexer": "ipython3",
   "version": "3.7.3"
  }
 },
 "nbformat": 4,
 "nbformat_minor": 4
}
