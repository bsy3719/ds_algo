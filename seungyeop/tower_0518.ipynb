{
 "cells": [
  {
   "cell_type": "markdown",
   "metadata": {},
   "source": [
    "# 스택/큐_탑\n",
    "https://programmers.co.kr/learn/courses/30/lessons/42588"
   ]
  },
  {
   "cell_type": "code",
   "execution_count": 116,
   "metadata": {},
   "outputs": [],
   "source": [
    "heights = [5, 3, 1, 2, 3]"
   ]
  },
  {
   "cell_type": "code",
   "execution_count": 117,
   "metadata": {},
   "outputs": [],
   "source": [
    "def solution(heights):\n",
    "    answer = []\n",
    "    \n",
    "    for i in range(len(heights)-1,-1,-1):\n",
    "        #print(i)\n",
    "        if i == 0:\n",
    "            answer.append(0)\n",
    "        else:\n",
    "            for j in range(i-1,-1,-1):\n",
    "                #print(j)\n",
    "                if j == 0 and heights[i] < heights[j]:\n",
    "                    answer.append(j+1)\n",
    "                elif j == 0 and heights[i] >= heights[j]:\n",
    "                     answer.append(0)\n",
    "                elif j != 0 and heights[i] < heights[j]:\n",
    "                    answer.append(j+1)\n",
    "                    break\n",
    "                    \n",
    "    answer.reverse()\n",
    "    return answer"
   ]
  },
  {
   "cell_type": "code",
   "execution_count": 118,
   "metadata": {},
   "outputs": [
    {
     "data": {
      "text/plain": [
       "[0, 1, 2, 2, 1]"
      ]
     },
     "execution_count": 118,
     "metadata": {},
     "output_type": "execute_result"
    }
   ],
   "source": [
    "solution(heights)"
   ]
  }
 ],
 "metadata": {
  "kernelspec": {
   "display_name": "Python 3",
   "language": "python",
   "name": "python3"
  },
  "language_info": {
   "codemirror_mode": {
    "name": "ipython",
    "version": 3
   },
   "file_extension": ".py",
   "mimetype": "text/x-python",
   "name": "python",
   "nbconvert_exporter": "python",
   "pygments_lexer": "ipython3",
   "version": "3.7.3"
  }
 },
 "nbformat": 4,
 "nbformat_minor": 4
}
