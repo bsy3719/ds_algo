{
 "cells": [
  {
   "cell_type": "markdown",
   "metadata": {},
   "source": [
    "# 깊이/너비 우선 탐색_타겟 넘버\n",
    "https://programmers.co.kr/learn/courses/30/lessons/43165"
   ]
  },
  {
   "cell_type": "code",
   "execution_count": 57,
   "metadata": {},
   "outputs": [
    {
     "data": {
      "text/plain": [
       "5"
      ]
     },
     "execution_count": 57,
     "metadata": {},
     "output_type": "execute_result"
    }
   ],
   "source": [
    "numbers = [1, 1, 1, 1, 1]\n",
    "target = 3\n",
    "\n",
    "def dfs(numbers, target, idx, result):\n",
    "    if idx == len(numbers):\n",
    "        if target == result:\n",
    "            return 1\n",
    "        else:\n",
    "            return 0\n",
    "\n",
    "    return dfs(numbers, target, idx+1, result+numbers[idx]) + dfs(numbers, target, idx+1, result-numbers[idx])\n",
    "    \n",
    "def solution(numbers, target):\n",
    "    answer = 0\n",
    "    \n",
    "    answer = dfs(numbers, target, 0, 0)\n",
    "    \n",
    "    return answer\n",
    "\n",
    "solution(numbers, target)"
   ]
  }
 ],
 "metadata": {
  "kernelspec": {
   "display_name": "Python 3",
   "language": "python",
   "name": "python3"
  },
  "language_info": {
   "codemirror_mode": {
    "name": "ipython",
    "version": 3
   },
   "file_extension": ".py",
   "mimetype": "text/x-python",
   "name": "python",
   "nbconvert_exporter": "python",
   "pygments_lexer": "ipython3",
   "version": "3.7.3"
  }
 },
 "nbformat": 4,
 "nbformat_minor": 4
}
